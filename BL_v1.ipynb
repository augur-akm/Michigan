{
 "cells": [
  {
   "cell_type": "code",
   "execution_count": 66,
   "metadata": {},
   "outputs": [],
   "source": [
    "import pandas as pd\n",
    "import numpy as np\n",
    "\n",
    "%matplotlib inline\n",
    "import matplotlib.pyplot as plt"
   ]
  },
  {
   "cell_type": "markdown",
   "metadata": {},
   "source": [
    "## Companies"
   ]
  },
  {
   "cell_type": "markdown",
   "metadata": {},
   "source": [
    "### Import data on revenues"
   ]
  },
  {
   "cell_type": "code",
   "execution_count": 38,
   "metadata": {},
   "outputs": [
    {
     "name": "stdout",
     "output_type": "stream",
     "text": [
      "Shape of the initial dataset on companies (264702, 3)\n"
     ]
    },
    {
     "data": {
      "text/html": [
       "<div>\n",
       "<style>\n",
       "    .dataframe thead tr:only-child th {\n",
       "        text-align: right;\n",
       "    }\n",
       "\n",
       "    .dataframe thead th {\n",
       "        text-align: left;\n",
       "    }\n",
       "\n",
       "    .dataframe tbody tr th {\n",
       "        vertical-align: top;\n",
       "    }\n",
       "</style>\n",
       "<table border=\"1\" class=\"dataframe\">\n",
       "  <thead>\n",
       "    <tr style=\"text-align: right;\">\n",
       "      <th></th>\n",
       "      <th>comp_name</th>\n",
       "      <th>comp_edrpou</th>\n",
       "      <th>comp_rev_2016</th>\n",
       "    </tr>\n",
       "  </thead>\n",
       "  <tbody>\n",
       "    <tr>\n",
       "      <th>0</th>\n",
       "      <td>ЕНЕРГОРИНОК ДП</td>\n",
       "      <td>21515381</td>\n",
       "      <td>131022292</td>\n",
       "    </tr>\n",
       "    <tr>\n",
       "      <th>1</th>\n",
       "      <td>УКРАЇНСЬКА ЗАЛІЗНИЦЯ ПУБЛІЧНЕ АТ</td>\n",
       "      <td>40075815</td>\n",
       "      <td>67527835</td>\n",
       "    </tr>\n",
       "    <tr>\n",
       "      <th>2</th>\n",
       "      <td>УКРГАЗВИДОБУВАННЯ ПУБЛІЧНЕ АТ</td>\n",
       "      <td>30019775</td>\n",
       "      <td>55041146</td>\n",
       "    </tr>\n",
       "  </tbody>\n",
       "</table>\n",
       "</div>"
      ],
      "text/plain": [
       "                          comp_name comp_edrpou comp_rev_2016\n",
       "0                    ЕНЕРГОРИНОК ДП    21515381     131022292\n",
       "1  УКРАЇНСЬКА ЗАЛІЗНИЦЯ ПУБЛІЧНЕ АТ    40075815      67527835\n",
       "2     УКРГАЗВИДОБУВАННЯ ПУБЛІЧНЕ АТ    30019775      55041146"
      ]
     },
     "execution_count": 38,
     "metadata": {},
     "output_type": "execute_result"
    }
   ],
   "source": [
    "data_comp=pd.read_excel(\"sales_2016_01.xlsx\", dtype=\"str\")\n",
    "data_comp = data_comp.append(pd.read_excel(\"sales_2016_02.xlsx\", dtype=\"str\"))\n",
    "del(data_comp[\"Mark\"])\n",
    "data_comp.columns=[\"comp_name\", \"comp_edrpou\", \"comp_rev_2016\"]\n",
    "print (\"Shape of the initial dataset on companies\", data_comp.shape)\n",
    "data_comp.head(3)"
   ]
  },
  {
   "cell_type": "markdown",
   "metadata": {},
   "source": [
    "Extract the first number from revenue:"
   ]
  },
  {
   "cell_type": "code",
   "execution_count": 39,
   "metadata": {},
   "outputs": [],
   "source": [
    "data_comp[\"rev_1st_num\"]=data_comp[\"comp_rev_2016\"].str[:1]"
   ]
  },
  {
   "cell_type": "code",
   "execution_count": 40,
   "metadata": {},
   "outputs": [
    {
     "data": {
      "text/html": [
       "<div>\n",
       "<style>\n",
       "    .dataframe thead tr:only-child th {\n",
       "        text-align: right;\n",
       "    }\n",
       "\n",
       "    .dataframe thead th {\n",
       "        text-align: left;\n",
       "    }\n",
       "\n",
       "    .dataframe tbody tr th {\n",
       "        vertical-align: top;\n",
       "    }\n",
       "</style>\n",
       "<table border=\"1\" class=\"dataframe\">\n",
       "  <thead>\n",
       "    <tr style=\"text-align: right;\">\n",
       "      <th></th>\n",
       "      <th>comp_name</th>\n",
       "      <th>comp_edrpou</th>\n",
       "      <th>comp_rev_2016</th>\n",
       "      <th>rev_1st_num</th>\n",
       "    </tr>\n",
       "  </thead>\n",
       "  <tbody>\n",
       "    <tr>\n",
       "      <th>0</th>\n",
       "      <td>ЕНЕРГОРИНОК ДП</td>\n",
       "      <td>21515381</td>\n",
       "      <td>131022292</td>\n",
       "      <td>1</td>\n",
       "    </tr>\n",
       "    <tr>\n",
       "      <th>1</th>\n",
       "      <td>УКРАЇНСЬКА ЗАЛІЗНИЦЯ ПУБЛІЧНЕ АТ</td>\n",
       "      <td>40075815</td>\n",
       "      <td>67527835</td>\n",
       "      <td>6</td>\n",
       "    </tr>\n",
       "    <tr>\n",
       "      <th>2</th>\n",
       "      <td>УКРГАЗВИДОБУВАННЯ ПУБЛІЧНЕ АТ</td>\n",
       "      <td>30019775</td>\n",
       "      <td>55041146</td>\n",
       "      <td>5</td>\n",
       "    </tr>\n",
       "  </tbody>\n",
       "</table>\n",
       "</div>"
      ],
      "text/plain": [
       "                          comp_name comp_edrpou comp_rev_2016 rev_1st_num\n",
       "0                    ЕНЕРГОРИНОК ДП    21515381     131022292           1\n",
       "1  УКРАЇНСЬКА ЗАЛІЗНИЦЯ ПУБЛІЧНЕ АТ    40075815      67527835           6\n",
       "2     УКРГАЗВИДОБУВАННЯ ПУБЛІЧНЕ АТ    30019775      55041146           5"
      ]
     },
     "execution_count": 40,
     "metadata": {},
     "output_type": "execute_result"
    }
   ],
   "source": [
    "data_comp.head(3)"
   ]
  },
  {
   "cell_type": "markdown",
   "metadata": {},
   "source": [
    "Remove redundant numbers (0 and -):"
   ]
  },
  {
   "cell_type": "code",
   "execution_count": 41,
   "metadata": {},
   "outputs": [],
   "source": [
    "data_comp=data_comp[(data_comp[\"rev_1st_num\"]!=\"0\") & (data_comp[\"rev_1st_num\"]!=\"-\")]"
   ]
  },
  {
   "cell_type": "markdown",
   "metadata": {},
   "source": [
    "### Calculation"
   ]
  },
  {
   "cell_type": "code",
   "execution_count": 65,
   "metadata": {},
   "outputs": [
    {
     "data": {
      "text/html": [
       "<div>\n",
       "<style>\n",
       "    .dataframe thead tr:only-child th {\n",
       "        text-align: right;\n",
       "    }\n",
       "\n",
       "    .dataframe thead th {\n",
       "        text-align: left;\n",
       "    }\n",
       "\n",
       "    .dataframe tbody tr th {\n",
       "        vertical-align: top;\n",
       "    }\n",
       "</style>\n",
       "<table border=\"1\" class=\"dataframe\">\n",
       "  <thead>\n",
       "    <tr style=\"text-align: right;\">\n",
       "      <th></th>\n",
       "      <th>index</th>\n",
       "      <th>rev_1st_num</th>\n",
       "      <th>perc_BL</th>\n",
       "      <th>perc_real</th>\n",
       "    </tr>\n",
       "  </thead>\n",
       "  <tbody>\n",
       "    <tr>\n",
       "      <th>0</th>\n",
       "      <td>1</td>\n",
       "      <td>71849</td>\n",
       "      <td>30.103</td>\n",
       "      <td>30.030</td>\n",
       "    </tr>\n",
       "    <tr>\n",
       "      <th>1</th>\n",
       "      <td>2</td>\n",
       "      <td>41705</td>\n",
       "      <td>17.609</td>\n",
       "      <td>17.431</td>\n",
       "    </tr>\n",
       "    <tr>\n",
       "      <th>2</th>\n",
       "      <td>3</td>\n",
       "      <td>30019</td>\n",
       "      <td>12.494</td>\n",
       "      <td>12.547</td>\n",
       "    </tr>\n",
       "    <tr>\n",
       "      <th>3</th>\n",
       "      <td>4</td>\n",
       "      <td>24071</td>\n",
       "      <td>9.691</td>\n",
       "      <td>10.061</td>\n",
       "    </tr>\n",
       "    <tr>\n",
       "      <th>4</th>\n",
       "      <td>5</td>\n",
       "      <td>18524</td>\n",
       "      <td>7.918</td>\n",
       "      <td>7.742</td>\n",
       "    </tr>\n",
       "    <tr>\n",
       "      <th>5</th>\n",
       "      <td>6</td>\n",
       "      <td>15744</td>\n",
       "      <td>6.695</td>\n",
       "      <td>6.580</td>\n",
       "    </tr>\n",
       "    <tr>\n",
       "      <th>6</th>\n",
       "      <td>7</td>\n",
       "      <td>13688</td>\n",
       "      <td>5.799</td>\n",
       "      <td>5.721</td>\n",
       "    </tr>\n",
       "    <tr>\n",
       "      <th>7</th>\n",
       "      <td>8</td>\n",
       "      <td>12296</td>\n",
       "      <td>5.115</td>\n",
       "      <td>5.139</td>\n",
       "    </tr>\n",
       "    <tr>\n",
       "      <th>8</th>\n",
       "      <td>9</td>\n",
       "      <td>11363</td>\n",
       "      <td>4.576</td>\n",
       "      <td>4.749</td>\n",
       "    </tr>\n",
       "  </tbody>\n",
       "</table>\n",
       "</div>"
      ],
      "text/plain": [
       "   index  rev_1st_num  perc_BL  perc_real\n",
       "0      1        71849   30.103     30.030\n",
       "1      2        41705   17.609     17.431\n",
       "2      3        30019   12.494     12.547\n",
       "3      4        24071    9.691     10.061\n",
       "4      5        18524    7.918      7.742\n",
       "5      6        15744    6.695      6.580\n",
       "6      7        13688    5.799      5.721\n",
       "7      8        12296    5.115      5.139\n",
       "8      9        11363    4.576      4.749"
      ]
     },
     "execution_count": 65,
     "metadata": {},
     "output_type": "execute_result"
    }
   ],
   "source": [
    "BL_comp = pd.DataFrame(data_comp[\"rev_1st_num\"].value_counts()).reset_index()\n",
    "BL_comp[\"index\"] = BL_comp[\"index\"].apply(int)\n",
    "BL_comp[\"rev_1st_num\"] = BL_comp[\"rev_1st_num\"].apply(int)\n",
    "\n",
    "BL_comp[\"perc_BL\"] = round(100 * np.log10(1+(1/BL_comp[\"index\"])), 3)\n",
    "BL_comp[\"perc_real\"] = round(100 * BL_comp[\"rev_1st_num\"]/sum(BL_comp[\"rev_1st_num\"]), 3)\n",
    "\n",
    "BL_comp"
   ]
  },
  {
   "cell_type": "code",
   "execution_count": 73,
   "metadata": {},
   "outputs": [
    {
     "data": {
      "text/plain": [
       "[<matplotlib.lines.Line2D at 0x172e8761860>]"
      ]
     },
     "execution_count": 73,
     "metadata": {},
     "output_type": "execute_result"
    },
    {
     "data": {
      "image/png": "[encoded data removed]",
      "text/plain": [
       "<matplotlib.figure.Figure at 0x172e87610b8>"
      ]
     },
     "metadata": {},
     "output_type": "display_data"
    }
   ],
   "source": [
    "plt.plot(BL_comp[\"perc_BL\"], c=\"blue\")\n",
    "plt.plot(BL_comp[\"perc_real\"], c=\"gray\")"
   ]
  },
  {
   "cell_type": "code",
   "execution_count": null,
   "metadata": {},
   "outputs": [],
   "source": []
  },
  {
   "cell_type": "code",
   "execution_count": null,
   "metadata": {},
   "outputs": [],
   "source": []
  },
  {
   "cell_type": "code",
   "execution_count": null,
   "metadata": {},
   "outputs": [],
   "source": []
  },
  {
   "cell_type": "code",
   "execution_count": null,
   "metadata": {},
   "outputs": [],
   "source": []
  },
  {
   "cell_type": "code",
   "execution_count": null,
   "metadata": {},
   "outputs": [],
   "source": []
  },
  {
   "cell_type": "code",
   "execution_count": null,
   "metadata": {},
   "outputs": [],
   "source": []
  },
  {
   "cell_type": "code",
   "execution_count": null,
   "metadata": {},
   "outputs": [],
   "source": []
  },
  {
   "cell_type": "code",
   "execution_count": null,
   "metadata": {},
   "outputs": [],
   "source": []
  }
 ],
 "metadata": {
  "kernelspec": {
   "display_name": "Python 3",
   "language": "python",
   "name": "python3"
  },
  "language_info": {
   "codemirror_mode": {
    "name": "ipython",
    "version": 3
   },
   "file_extension": ".py",
   "mimetype": "text/x-python",
   "name": "python",
   "nbconvert_exporter": "python",
   "pygments_lexer": "ipython3",
   "version": "3.6.3"
  }
 },
 "nbformat": 4,
 "nbformat_minor": 2
}
